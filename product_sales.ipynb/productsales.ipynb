{
 "cells": [
  {
   "cell_type": "code",
   "execution_count": 2,
   "id": "5e6adb1c",
   "metadata": {},
   "outputs": [],
   "source": [
    "import pandas as pd\n",
    "import numpy as np \n",
    "import seaborn as sns\n",
    "import matplotlib.pyplot as plt\n"
   ]
  },
  {
   "cell_type": "code",
   "execution_count": 3,
   "id": "ee4cbc2d",
   "metadata": {},
   "outputs": [],
   "source": [
    "df =  pd.read_csv('Orders.csv')\n",
    "df1 = pd.read_csv('Payments.csv')\n",
    "df2 = pd.read_csv('Products.csv')\n",
    "df3 = pd.read_csv('Shippers.csv'  , encoding='latin1')\n",
    "df4 = pd.read_csv('Suppliers.csv')\n",
    "df5 = pd.read_csv('Category.csv')\n",
    "df6 = pd.read_csv('Customers.csv', encoding='latin1')\n",
    "df7 = pd.read_csv('OrderDetails.csv')"
   ]
  },
  {
   "cell_type": "code",
   "execution_count": 4,
   "id": "d716906e",
   "metadata": {},
   "outputs": [
    {
     "data": {
      "text/plain": [
       "OrderID                 int64\n",
       "CustomerID              int64\n",
       "PaymentID               int64\n",
       "OrderDate              object\n",
       "ShipperID               int64\n",
       "ShipDate               object\n",
       "DeliveryDate           object\n",
       "Total_order_amount    float64\n",
       "dtype: object"
      ]
     },
     "execution_count": 4,
     "metadata": {},
     "output_type": "execute_result"
    }
   ],
   "source": [
    "df.dtypes"
   ]
  },
  {
   "cell_type": "code",
   "execution_count": 5,
   "id": "580c3d8a",
   "metadata": {},
   "outputs": [
    {
     "data": {
      "text/plain": [
       "PaymentID       int64\n",
       "PaymentType    object\n",
       "Allowed        object\n",
       "dtype: object"
      ]
     },
     "execution_count": 5,
     "metadata": {},
     "output_type": "execute_result"
    }
   ],
   "source": [
    "df1.dtypes"
   ]
  },
  {
   "cell_type": "code",
   "execution_count": 6,
   "id": "def74fee",
   "metadata": {},
   "outputs": [
    {
     "data": {
      "text/plain": [
       "ShipperID       int64\n",
       "CompanyName    object\n",
       "Phone           int64\n",
       "dtype: object"
      ]
     },
     "execution_count": 6,
     "metadata": {},
     "output_type": "execute_result"
    }
   ],
   "source": [
    "df3.dtypes"
   ]
  },
  {
   "cell_type": "code",
   "execution_count": 7,
   "id": "737d9d88",
   "metadata": {},
   "outputs": [
    {
     "data": {
      "text/plain": [
       "ProductID        int64\n",
       "Product         object\n",
       "Category_ID      int64\n",
       "Sub_Category    object\n",
       "Brand           object\n",
       "Sale_Price       int64\n",
       "Market_Price     int64\n",
       "Type            object\n",
       "Rating           int64\n",
       "dtype: object"
      ]
     },
     "execution_count": 7,
     "metadata": {},
     "output_type": "execute_result"
    }
   ],
   "source": [
    "df2.dtypes"
   ]
  },
  {
   "cell_type": "code",
   "execution_count": 8,
   "id": "a363a6be",
   "metadata": {},
   "outputs": [
    {
     "data": {
      "text/plain": [
       "SupplierID      int64\n",
       "CompanyName    object\n",
       "City           object\n",
       "State          object\n",
       "PostalCode      int64\n",
       "Country        object\n",
       "Phone           int64\n",
       "Email          object\n",
       "dtype: object"
      ]
     },
     "execution_count": 8,
     "metadata": {},
     "output_type": "execute_result"
    }
   ],
   "source": [
    "df4.dtypes"
   ]
  },
  {
   "cell_type": "code",
   "execution_count": 9,
   "id": "bd8d9904",
   "metadata": {},
   "outputs": [
    {
     "data": {
      "text/plain": [
       "CategoryID       int64\n",
       "CategoryName    object\n",
       "Active          object\n",
       "dtype: object"
      ]
     },
     "execution_count": 9,
     "metadata": {},
     "output_type": "execute_result"
    }
   ],
   "source": [
    "df5.dtypes"
   ]
  },
  {
   "cell_type": "code",
   "execution_count": 10,
   "id": "c70a0c8e",
   "metadata": {},
   "outputs": [
    {
     "data": {
      "text/plain": [
       "CustomerID      int64\n",
       "FirstName      object\n",
       "LastName       object\n",
       "City           object\n",
       "State          object\n",
       "Country        object\n",
       "PostalCode      int64\n",
       "Phone           int64\n",
       "Email          object\n",
       "DateEntered    object\n",
       "dtype: object"
      ]
     },
     "execution_count": 10,
     "metadata": {},
     "output_type": "execute_result"
    }
   ],
   "source": [
    "df6.dtypes"
   ]
  },
  {
   "cell_type": "code",
   "execution_count": 11,
   "id": "77d6db91",
   "metadata": {},
   "outputs": [
    {
     "data": {
      "text/plain": [
       "OrderDetailID    int64\n",
       "OrderID          int64\n",
       "ProductID        int64\n",
       "Quantity         int64\n",
       "SupplierID       int64\n",
       "dtype: object"
      ]
     },
     "execution_count": 11,
     "metadata": {},
     "output_type": "execute_result"
    }
   ],
   "source": [
    "df7.dtypes"
   ]
  },
  {
   "cell_type": "code",
   "execution_count": 12,
   "id": "c96f6c05",
   "metadata": {},
   "outputs": [],
   "source": [
    "df8= pd.merge(df, df3, on = 'ShipperID')"
   ]
  },
  {
   "cell_type": "code",
   "execution_count": 13,
   "id": "56a066f0",
   "metadata": {},
   "outputs": [
    {
     "data": {
      "text/html": [
       "<div>\n",
       "<style scoped>\n",
       "    .dataframe tbody tr th:only-of-type {\n",
       "        vertical-align: middle;\n",
       "    }\n",
       "\n",
       "    .dataframe tbody tr th {\n",
       "        vertical-align: top;\n",
       "    }\n",
       "\n",
       "    .dataframe thead th {\n",
       "        text-align: right;\n",
       "    }\n",
       "</style>\n",
       "<table border=\"1\" class=\"dataframe\">\n",
       "  <thead>\n",
       "    <tr style=\"text-align: right;\">\n",
       "      <th></th>\n",
       "      <th>OrderDetailID</th>\n",
       "      <th>OrderID</th>\n",
       "      <th>ProductID</th>\n",
       "      <th>Quantity</th>\n",
       "      <th>SupplierID</th>\n",
       "    </tr>\n",
       "  </thead>\n",
       "  <tbody>\n",
       "    <tr>\n",
       "      <th>0</th>\n",
       "      <td>1</td>\n",
       "      <td>7655500</td>\n",
       "      <td>14955</td>\n",
       "      <td>2</td>\n",
       "      <td>3</td>\n",
       "    </tr>\n",
       "    <tr>\n",
       "      <th>1</th>\n",
       "      <td>2</td>\n",
       "      <td>7655500</td>\n",
       "      <td>19946</td>\n",
       "      <td>4</td>\n",
       "      <td>2</td>\n",
       "    </tr>\n",
       "    <tr>\n",
       "      <th>2</th>\n",
       "      <td>3</td>\n",
       "      <td>7655500</td>\n",
       "      <td>6299</td>\n",
       "      <td>18</td>\n",
       "      <td>2</td>\n",
       "    </tr>\n",
       "    <tr>\n",
       "      <th>3</th>\n",
       "      <td>4</td>\n",
       "      <td>7655500</td>\n",
       "      <td>12711</td>\n",
       "      <td>9</td>\n",
       "      <td>4</td>\n",
       "    </tr>\n",
       "    <tr>\n",
       "      <th>4</th>\n",
       "      <td>5</td>\n",
       "      <td>7655500</td>\n",
       "      <td>12743</td>\n",
       "      <td>1</td>\n",
       "      <td>3</td>\n",
       "    </tr>\n",
       "  </tbody>\n",
       "</table>\n",
       "</div>"
      ],
      "text/plain": [
       "   OrderDetailID  OrderID  ProductID  Quantity  SupplierID\n",
       "0              1  7655500      14955         2           3\n",
       "1              2  7655500      19946         4           2\n",
       "2              3  7655500       6299        18           2\n",
       "3              4  7655500      12711         9           4\n",
       "4              5  7655500      12743         1           3"
      ]
     },
     "execution_count": 13,
     "metadata": {},
     "output_type": "execute_result"
    }
   ],
   "source": [
    "df7.head()"
   ]
  },
  {
   "cell_type": "code",
   "execution_count": null,
   "id": "d2981c59",
   "metadata": {},
   "outputs": [],
   "source": []
  },
  {
   "cell_type": "code",
   "execution_count": null,
   "id": "e3fcf7d5",
   "metadata": {},
   "outputs": [],
   "source": []
  }
 ],
 "metadata": {
  "kernelspec": {
   "display_name": "Python 3",
   "language": "python",
   "name": "python3"
  },
  "language_info": {
   "codemirror_mode": {
    "name": "ipython",
    "version": 3
   },
   "file_extension": ".py",
   "mimetype": "text/x-python",
   "name": "python",
   "nbconvert_exporter": "python",
   "pygments_lexer": "ipython3",
   "version": "3.13.1"
  }
 },
 "nbformat": 4,
 "nbformat_minor": 5
}
