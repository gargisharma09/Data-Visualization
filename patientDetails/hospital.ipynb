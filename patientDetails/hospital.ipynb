{
 "cells": [
  {
   "cell_type": "code",
   "execution_count": null,
   "metadata": {
    "vscode": {
     "languageId": "plaintext"
    }
   },
   "outputs": [],
   "source": [
    "import pandas as pd\n",
    "import matplotlib.pyplot as plt\n",
    "import seaborn as sns\n",
    "\n",
    "# Load datasets from CSV files\n",
    "encounters = pd.read_csv(\"D:\\\\data visualisationsem2.py\\\\patientDetails\\\\encounters.csv\")\n",
    "organizations = pd.read_csv(\"D:\\\\data visualisationsem2.py\\\\patientDetails\\\\organizations.csv\")\n",
    "patients = pd.read_csv(\"D:\\\\data visualisationsem2.py\\\\patientDetails\\\\patients.csv\")\n",
    "payers = pd.read_csv(\"D:\\\\data visualisationsem2.py\\\\patientDetails\\\\payers.csv\")\n",
    "procedures = pd.read_csv(\"D:\\\\data visualisationsem2.py\\\\patientDetails\\\\procedures.csv\")\n",
    "\n",
    "# Convert date columns to datetime format\n",
    "patients['date_of_birth'] = pd.to_datetime(patients['date_of_birth'], errors='coerce')\n",
    "encounters['visit_date'] = pd.to_datetime(encounters['visit_date'], errors='coerce')\n",
    "procedures['procedure_date'] = pd.to_datetime(procedures['procedure_date'], errors='coerce')\n",
    "\n",
    "# Merge the tables using relevant keys\n",
    "merged_df = encounters.merge(patients, on='patient_id', how='left') \\\n",
    "                      .merge(organizations, on='organization_id', how='left') \\\n",
    "                      .merge(payers, on='payer_id', how='left') \\\n",
    "                      .merge(procedures, on='encounter_id', how='left')\n",
    "\n",
    "# Display first few rows of merged data\n",
    "print(\"Merged DataFrame:\")\n",
    "print(merged_df.head())\n",
    "\n",
    "# ----------------- Data Visualization ----------------- #\n",
    "\n",
    "# 1. Count of Visits by Reason\n",
    "plt.figure(figsize=(8, 4))\n",
    "sns.countplot(x='reason', data=merged_df, palette='viridis')\n",
    "plt.title(\"Number of Patient Visits by Reason\")\n",
    "plt.xlabel(\"Reason for Visit\")\n",
    "plt.ylabel(\"Count\")\n",
    "plt.xticks(rotation=45)\n",
    "plt.show()\n",
    "\n",
    "# 2. Patient Visits per Hospital\n",
    "plt.figure(figsize=(8, 4))\n",
    "sns.countplot(x='organization_name', data=merged_df, palette='coolwarm')\n",
    "plt.title(\"Number of Visits Per Hospital\")\n",
    "plt.xlabel(\"Hospital/Clinic\")\n",
    "plt.ylabel(\"Count of Visits\")\n",
    "plt.xticks(rotation=45)\n",
    "plt.show()\n",
    "\n",
    "# 3. Age Distribution of Patients\n",
    "merged_df['age'] = (pd.Timestamp('today') - merged_df['date_of_birth']).dt.days // 365\n",
    "plt.figure(figsize=(8, 4))\n",
    "sns.histplot(merged_df['age'], bins=10, kde=True, color='blue')\n",
    "plt.title(\"Age Distribution of Patients\")\n",
    "plt.xlabel(\"Age\")\n",
    "plt.ylabel(\"Number of Patients\")\n",
    "plt.show()\n",
    "\n",
    "# 4. Procedures Performed in Each Hospital\n",
    "plt.figure(figsize=(8, 4))\n",
    "sns.countplot(y='procedure_name', data=merged_df, hue='organization_name', palette='magma')\n",
    "plt.title(\"Procedures Performed in Each Hospital\")\n",
    "plt.xlabel(\"Count\")\n",
    "plt.ylabel(\"Procedure Name\")\n",
    "plt.legend(title=\"Hospital\")\n",
    "plt.show()\n"
   ]
  },
  {
   "cell_type": "code",
   "execution_count": null,
   "metadata": {
    "vscode": {
     "languageId": "plaintext"
    }
   },
   "outputs": [],
   "source": []
  }
 ],
 "metadata": {
  "language_info": {
   "name": "python"
  }
 },
 "nbformat": 4,
 "nbformat_minor": 2
}
