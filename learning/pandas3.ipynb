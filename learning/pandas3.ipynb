{
 "cells": [
  {
   "cell_type": "code",
   "execution_count": 1,
   "id": "bc88eaca",
   "metadata": {},
   "outputs": [],
   "source": [
    "import pandas as pd"
   ]
  },
  {
   "cell_type": "code",
   "execution_count": null,
   "id": "59cf6786",
   "metadata": {},
   "outputs": [],
   "source": [
    "data = {\n",
    "    \"Name\": ['Ram','Shyam','Ghanshyam','Dhanshay','Aditi','Gauri','Jagdish','Raj','Simran'],\n",
    "    \"Age\": [23,24,34,34,25,33,26,27,26],\n",
    "    \"Salary\": [50000,33000,65000,78000,64000,85000,56000,55000,67000],\n",
    "    \"Performance_Score\": [85,90,78,88,95,80,89,89,99]\n",
    "}"
   ]
  }
 ],
 "metadata": {
  "kernelspec": {
   "display_name": "Python 3",
   "language": "python",
   "name": "python3"
  },
  "language_info": {
   "codemirror_mode": {
    "name": "ipython",
    "version": 3
   },
   "file_extension": ".py",
   "mimetype": "text/x-python",
   "name": "python",
   "nbconvert_exporter": "python",
   "pygments_lexer": "ipython3",
   "version": "3.13.1"
  }
 },
 "nbformat": 4,
 "nbformat_minor": 5
}
